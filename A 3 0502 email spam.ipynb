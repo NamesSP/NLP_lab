{
 "cells": [
  {
   "cell_type": "code",
   "execution_count": 41,
   "id": "74996692",
   "metadata": {},
   "outputs": [
    {
     "name": "stdout",
     "output_type": "stream",
     "text": [
      "                                                text spam\n",
      "0  Subject: naturally it's your irresistible your...    1\n",
      "1  Subject: the stock trading gunslinger  fanny i...    1\n",
      "2  Subject: unbelievable new homes made easy  im ...    1\n",
      "3  Subject: 4 color printing special  request add...    1\n",
      "4  Subject: do not have money , get software cds ...    1\n",
      "5  Subject: great nnews  hello , welcome to medzo...    1\n",
      "6  Subject: here ' s a hot play in motion  homela...    1\n",
      "7  Subject: save your money buy getting this thin...    1\n",
      "8  Subject: undeliverable : home based business f...    1\n",
      "9  Subject: save your money buy getting this thin...    1\n",
      "<class 'pandas.core.frame.DataFrame'>\n",
      "RangeIndex: 5730 entries, 0 to 5729\n",
      "Data columns (total 2 columns):\n",
      " #   Column  Non-Null Count  Dtype \n",
      "---  ------  --------------  ----- \n",
      " 0   text    5730 non-null   object\n",
      " 1   spam    5728 non-null   object\n",
      "dtypes: object(2)\n",
      "memory usage: 89.7+ KB\n",
      "None\n",
      "                                          Email content spam messages\n",
      "0     Subject: naturally it's your irresistible your...             1\n",
      "1     Subject: the stock trading gunslinger  fanny i...             1\n",
      "2     Subject: unbelievable new homes made easy  im ...             1\n",
      "3     Subject: 4 color printing special  request add...             1\n",
      "4     Subject: do not have money , get software cds ...             1\n",
      "...                                                 ...           ...\n",
      "5725  Subject: re : research and development charges...             0\n",
      "5726  Subject: re : receipts from visit  jim ,  than...             0\n",
      "5727  Subject: re : enron case study update  wow ! a...             0\n",
      "5728  Subject: re : interest  david ,  please , call...             0\n",
      "5729  Subject: news : aurora 5 . 2 update  aurora ve...             0\n",
      "\n",
      "[5730 rows x 2 columns]\n",
      "-----------------------------\n"
     ]
    }
   ],
   "source": [
    "# text preprocessing techniques on email spam data\n",
    "\n",
    "import pandas as pd\n",
    "\n",
    "df=pd.read_csv('emails.csv', usecols=['text','spam'])\n",
    "print(df.head(10))\n",
    "print(df.info())\n",
    "\n",
    "# 1 rename columns\n",
    "column_mapping={\n",
    "    'text':'Email content',\n",
    "    'spam':'spam messages',\n",
    "}\n",
    "df.rename(columns=column_mapping,inplace=True)\n",
    "df.to_csv('emails.csv',index=False)\n",
    "print(df)\n",
    "print('-----------------------------')\n",
    "\n"
   ]
  },
  {
   "cell_type": "code",
   "execution_count": 43,
   "id": "d86d63e1",
   "metadata": {},
   "outputs": [
    {
     "name": "stdout",
     "output_type": "stream",
     "text": [
      "Original content: \n",
      " Subject: naturally it's your irresistible your corporate identity  lt is really hard to recollect a company : the  market is full of suqgestions and the information isoverwhelminq ; but a good  catchy logo , stylish statlonery and outstanding website  will make the task much easier .  we don't promise that havinq ordered a iogo your  company will automaticaily become a world ieader : it isguite ciear that  without good products , effective business organization and practicable aim it  will be hotat nowadays market ; but we do promise that your marketing efforts  will become much more effective . here is the list of clear  benefits : creativeness : hand - made , original logos , specially done  to reflect your distinctive company image . convenience : logo and stationery  are provided in all formats ; easy - to - use content management system letsyou  change your website content and even its structure . promptness : you'll see logo drafts within three business days . affordability : your  marketing break - through shouldn't make gaps in your budget . 100 % satisfaction  guaranteed : we provide unlimited amount of changes with no extra fees for you to  be surethat you will love the result of this collaboration . have a look at our  portfolio _ _ _ _ _ _ _ _ _ _ _ _ _ _ _ _ _ _ _ _ _ _ _ _ _ _ _ _ _ _ _ _ _ _ _ _ _ _ _ _ _ _ _ _ _ _ _ _ _ _ _ _ not interested . . . _ _ _ _ _ _ _ _ _ _ _ _ _ _ _ _ _ _ _ _ _ _ _ _ _ _ _ _ _ _ _ _ _ _ _ _ _ _ _ _ _ _ _ _ _ _ _ _ _ _ _ _\n",
      "Expanded text: \n",
      "\n",
      "Subject:naturallyit isyourirresistibleyourcorporateidentityltisreallyhardtorecollectacompany:themarketisfullofsuqgestionsandtheinformationisoverwhelminq;butagoodcatchylogo,stylishstatloneryandoutstandingwebsitewillmakethetaskmucheasier.wedo notpromisethathavinqorderedaiogoyourcompanywillautomaticailybecomeaworldieader:itisguiteciearthatwithoutgoodproducts,effectivebusinessorganizationandpracticableaimitwillbehotatnowadaysmarket;butwedopromisethatyourmarketingeffortswillbecomemuchmoreeffective.hereisthelistofclearbenefits:creativeness:hand-made,originallogos,speciallydonetoreflectyourdistinctivecompanyimage.convenience:logoandstationeryareprovidedinallformats;easy-to-usecontentmanagementsystemletsyouchangeyourwebsitecontentandevenitsstructure.promptness:you willseelogodraftswithinthreebusinessdays.affordability:yourmarketingbreak-throughshould notmakegapsinyourbudget.100%satisfactionguaranteed:weprovideunlimitedamountofchangeswithnoextrafeesforyoutobesurethatyouwilllovetheresultofthiscollaboration.havealookatourportfolio____________________________________________________notinterested...____________________________________________________"
     ]
    }
   ],
   "source": [
    "\n",
    "# 2 \n",
    "import contractions\n",
    "txt=df['Email content'][0]\n",
    "print('Original content: \\n',txt)\n",
    "print('Expanded text: \\n')\n",
    "for i in txt.split():\n",
    "    print(contractions.fix(i),end='')\n",
    "\n",
    "\n"
   ]
  },
  {
   "cell_type": "code",
   "execution_count": 45,
   "id": "98e5e453",
   "metadata": {},
   "outputs": [
    {
     "data": {
      "text/plain": [
       "\"subject: naturally it's your irresistible your corporate identity  lt is really hard to recollect a company : the  market is full of suqgestions and the information isoverwhelminq ; but a good  catchy logo , stylish statlonery and outstanding website  will make the task much easier .  we don't promise that havinq ordered a iogo your  company will automaticaily become a world ieader : it isguite ciear that  without good products , effective business organization and practicable aim it  will be hotat nowadays market ; but we do promise that your marketing efforts  will become much more effective . here is the list of clear  benefits : creativeness : hand - made , original logos , specially done  to reflect your distinctive company image . convenience : logo and stationery  are provided in all formats ; easy - to - use content management system letsyou  change your website content and even its structure . promptness : you'll see logo drafts within three business days . affordability : your  marketing break - through shouldn't make gaps in your budget . 100 % satisfaction  guaranteed : we provide unlimited amount of changes with no extra fees for you to  be surethat you will love the result of this collaboration . have a look at our  portfolio _ _ _ _ _ _ _ _ _ _ _ _ _ _ _ _ _ _ _ _ _ _ _ _ _ _ _ _ _ _ _ _ _ _ _ _ _ _ _ _ _ _ _ _ _ _ _ _ _ _ _ _ not interested . . . _ _ _ _ _ _ _ _ _ _ _ _ _ _ _ _ _ _ _ _ _ _ _ _ _ _ _ _ _ _ _ _ _ _ _ _ _ _ _ _ _ _ _ _ _ _ _ _ _ _ _ _\""
      ]
     },
     "execution_count": 45,
     "metadata": {},
     "output_type": "execute_result"
    }
   ],
   "source": [
    "\n",
    "\n",
    "# 3 lower case\n",
    "df['text']=df['Email content'].str.lower()\n",
    "df['text'][0]\n",
    "\n",
    "\n",
    "\n"
   ]
  },
  {
   "cell_type": "code",
   "execution_count": 47,
   "id": "a475a437",
   "metadata": {},
   "outputs": [
    {
     "data": {
      "text/plain": [
       "'subject 4 color printing special  request additional information now  click here  click here for a printable version of our order form  pdf format   phone   626  338  8090 fax   626  338  8102 e  mail  ramsey  goldengraphix  com  request additional information now  click here  click here for a printable version of our order form  pdf format   golden graphix  printing 5110 azusa canyon rd  irwindale  ca 91706 this e  mail message is an advertisement and  or solicitation of games54 and game5s4  '"
      ]
     },
     "execution_count": 47,
     "metadata": {},
     "output_type": "execute_result"
    }
   ],
   "source": [
    "\n",
    "\n",
    "# 4 remove punctuationsspam\n",
    "import re\n",
    "df['text']=df['text'].apply(lambda x:re.sub(r'[^\\w\\s]','',x))\n",
    "df['text'][3]\n",
    "\n",
    "\n"
   ]
  },
  {
   "cell_type": "code",
   "execution_count": 48,
   "id": "eade7318",
   "metadata": {},
   "outputs": [
    {
     "data": {
      "text/plain": [
       "'subject  color printing special  request additional information now  click here  click here for a printable version of our order form  pdf format   phone        fax        e  mail  ramsey  goldengraphix  com  request additional information now  click here  click here for a printable version of our order form  pdf format   golden graphix  printing  azusa canyon rd  irwindale  ca  this e  mail message is an advertisement and  or solicitation of  and   '"
      ]
     },
     "execution_count": 48,
     "metadata": {},
     "output_type": "execute_result"
    }
   ],
   "source": [
    "\n",
    "\n",
    "# 5 remove words and digits containig digits\n",
    "df['text']=df['text'].apply(lambda x: re.sub('\\w*\\d\\w*','',x))\n",
    "df['text'][3]\n",
    "\n"
   ]
  },
  {
   "cell_type": "code",
   "execution_count": null,
   "id": "61090898",
   "metadata": {},
   "outputs": [],
   "source": []
  },
  {
   "cell_type": "code",
   "execution_count": null,
   "id": "45ed839a",
   "metadata": {},
   "outputs": [],
   "source": []
  },
  {
   "cell_type": "code",
   "execution_count": 38,
   "id": "6e0d5671",
   "metadata": {},
   "outputs": [
    {
     "name": "stderr",
     "output_type": "stream",
     "text": [
      "[nltk_data] Downloading package stopwords to\n",
      "[nltk_data]     /home/student/nltk_data...\n",
      "[nltk_data]   Package stopwords is already up-to-date!\n"
     ]
    },
    {
     "data": {
      "text/plain": [
       "'colorprintingspecialrequestadditionalinformationclickclickprintableversionorderformpdfformatphonefaxemailramseygoldengraphixcomrequestadditionalinformationclickclickprintableversionorderformpdfformatgoldengraphixprintingazusacanyonrdirwindalecaemailmessageadvertisementsolicitation'"
      ]
     },
     "execution_count": 38,
     "metadata": {},
     "output_type": "execute_result"
    }
   ],
   "source": [
    "# 6 remove stopwords and specified stopwords \"subject\"\n",
    "import nltk\n",
    "nltk.download('stopwords')\n",
    "from nltk.corpus import stopwords\n",
    "\n",
    "stop_words=set(stopwords.words('english'))\n",
    "stop_words.add('subject')\n",
    "def remove_stopwords(text):\n",
    "    return\"\".join([word for word in str(text).split()if word not in stop_words])\n",
    "df['text']=df['text'].apply(lambda x:remove_stopwords(x))\n",
    "df['text'][3]"
   ]
  },
  {
   "cell_type": "code",
   "execution_count": null,
   "id": "a4e18150",
   "metadata": {},
   "outputs": [],
   "source": []
  }
 ],
 "metadata": {
  "kernelspec": {
   "display_name": "Python 3 (ipykernel)",
   "language": "python",
   "name": "python3"
  },
  "language_info": {
   "codemirror_mode": {
    "name": "ipython",
    "version": 3
   },
   "file_extension": ".py",
   "mimetype": "text/x-python",
   "name": "python",
   "nbconvert_exporter": "python",
   "pygments_lexer": "ipython3",
   "version": "3.10.12"
  }
 },
 "nbformat": 4,
 "nbformat_minor": 5
}
