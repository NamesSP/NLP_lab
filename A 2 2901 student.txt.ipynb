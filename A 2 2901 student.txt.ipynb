{
 "cells": [
  {
   "cell_type": "code",
   "execution_count": 9,
   "id": "428ecb23",
   "metadata": {},
   "outputs": [
    {
     "name": "stdout",
     "output_type": "stream",
     "text": [
      "a\n",
      " EMAILS:  ['virat@kohli.com', 'maria@sharapova.com', 'serena@williams.com', 'joe@root.com', 'ashwal@nmamit.ac.in', 'joen@nmamit.ac.in', 'clawn@nitte.edu.in.com', 'reema@flagroots.com', 'leesha@root.com', 'harshin@dreams.com', 'dhrvi@nitte.edu.in', 'jane@nmamit.ac.in', 'jon@nmamit.ac.in', 'jonin@nmamit.ac.in', 'hoen@nmamit.ac.in', 'ren@nmamit.ac.in', 'joe@nmamit.ac.in', 'ChristopherAnderson@gmail.com', 'RonaldClark@gmail.com', 'MaryWright@gmail.com', 'LisaMitchell@gmail.com', 'MichelleJohnson@gmail.com', 'JohnThomas@gmail.com', 'DanielRodriguez@gmail.com', 'AnthonyLopez@gmail.com', 'PatriciaPerez@gmail.com', 'NancyWilliams@hotmail.com', 'LauraJackson@hotmail.com', 'RobertLewis@hotmail.com', 'PaulHill@hotmail.com', 'KevinRoberts@hotmail.com', 'LindaJones@hotmail.com', 'KarenWhite@hotmail.com', 'SarahLee@hotmail.com', 'MichaelScott@hotmail.com', 'MarkTurner@hotmail.com', 'JasonBrown@aol.com', 'BarbaraHarris@aol.com', 'BettyWalker@aol.com', 'KimberlyGreen@aol.com', 'WilliamPhillips@aol.com', 'DonaldDavis@aol.com', 'JeffMartin@aol.com', 'ElizabethHall@aol.com', 'HelenAdams@aol.com', 'DeborahCampbell@aol.com', 'DavidMiller@yahoo.com', 'GeorgeThompson@yahoo.com', 'JenniferAllen@yahoo.com', 'SandraBaker@yahoo.com', 'RichardParker@yahoo.com', 'KennethWilson@yahoo.com', 'MariaGarcia@yahoo.com', 'DonnaYoung@yahoo.com', 'CharlesGonzalez@yahoo.com', 'StevenEvans@yahoo.com', 'SusanMoore@yahoo.com', 'CarolMartinez@facebook.com', 'JosephHernandez@facebook.com', 'EdwardNelson@facebook.com', 'MargaretEdwards@facebook.com', 'RuthTaylor@facebook.com', 'ThomasRobinson@facebook.com', 'BrianKing@facebook.com', 'DorothyCarter@facebook.com', 'SharonCollins@facebook.com']\n",
      "\n",
      "----------------------\n",
      "b\n",
      " EMAILS:  ['virat@kohli.com', 'maria@sharapova.com', 'serena@williams.com', 'joe@root.com', 'ashwal@nmamit.ac', 'joen@nmamit.ac', 'clawn@nitte.edu', 'reema@flagroots.com', 'leesha@root.com', 'harshin@dreams.com', 'dhrvi@nitte.edu', 'jane@nmamit.ac', 'jon@nmamit.ac', 'jonin@nmamit.ac', 'hoen@nmamit.ac', 'ren@nmamit.ac', 'joe@nmamit.ac', 'ChristopherAnderson@gmail.com', 'RonaldClark@gmail.com', 'MaryWright@gmail.com', 'LisaMitchell@gmail.com', 'MichelleJohnson@gmail.com', 'JohnThomas@gmail.com', 'DanielRodriguez@gmail.com', 'AnthonyLopez@gmail.com', 'PatriciaPerez@gmail.com', 'NancyWilliams@hotmail.com', 'LauraJackson@hotmail.com', 'RobertLewis@hotmail.com', 'PaulHill@hotmail.com', 'KevinRoberts@hotmail.com', 'LindaJones@hotmail.com', 'KarenWhite@hotmail.com', 'SarahLee@hotmail.com', 'MichaelScott@hotmail.com', 'MarkTurner@hotmail.com', 'JasonBrown@aol.com', 'BarbaraHarris@aol.com', 'BettyWalker@aol.com', 'KimberlyGreen@aol.com', 'WilliamPhillips@aol.com', 'DonaldDavis@aol.com', 'JeffMartin@aol.com', 'ElizabethHall@aol.com', 'HelenAdams@aol.com', 'DeborahCampbell@aol.com', 'DavidMiller@yahoo.com', 'GeorgeThompson@yahoo.com', 'JenniferAllen@yahoo.com', 'SandraBaker@yahoo.com', 'RichardParker@yahoo.com', 'KennethWilson@yahoo.com', 'MariaGarcia@yahoo.com', 'DonnaYoung@yahoo.com', 'CharlesGonzalez@yahoo.com', 'StevenEvans@yahoo.com', 'SusanMoore@yahoo.com', 'CarolMartinez@facebook.com', 'JosephHernandez@facebook.com', 'EdwardNelson@facebook.com', 'MargaretEdwards@facebook.com', 'RuthTaylor@facebook.com', 'ThomasRobinson@facebook.com', 'BrianKing@facebook.com', 'DorothyCarter@facebook.com', 'SharonCollins@facebook.com']\n",
      "\n",
      "----------------------\n",
      "URL:\n",
      " ['http://www.data.gov/', 'http://www.science.gov/', 'http://data.gov.uk/.', 'http://www3.norc.org/gss+website/', 'http://www.europeansocialsurvey.org/.', 'http://www.systemsurvey.org/', 'domain.com']\n",
      "\n",
      "----------------------\n",
      "two $\n",
      "500 €\n"
     ]
    }
   ],
   "source": [
    "# a. tokenize email-id using spacy\n",
    "\n",
    "with open('students.txt')as f:\n",
    "    text=f.readlines()\n",
    "text=\"\".join(text)\n",
    "\n",
    "import spacy\n",
    "nlp=spacy.load('en_core_web_sm')\n",
    "doc=nlp(text)\n",
    "emails=[]\n",
    "for t in doc:\n",
    "    if t.like_email:\n",
    "        emails.append(t.text)\n",
    "print('a\\n','EMAILS: ',emails)\n",
    "print('\\n----------------------')\n",
    "\n",
    "# b. using NLTK\n",
    "from nltk import word_tokenize\n",
    "import re\n",
    "emails=re.findall(\"[a-zA-Z0-9]+@[a-zA-Z0-9]+\\.[a-z]+\",text)\n",
    "print('b\\n','EMAILS: ',emails)\n",
    "print('\\n----------------------')\n",
    "\n",
    "# c collect dataset website from book paragraph\n",
    "text='Look for data to help you address the question. Governments are good sources because data from public research is often freely available. Good places to start include http://www.data.gov/, and http://www.science.gov/, and in the United Kingdom, http://data.gov.uk/. Two of my favorite data sets are the General Social Survey at http://www3.norc.org/gss+website/, and the European Social Survey at http://www.europeansocialsurvey.org/. The current representation will be formed by a well-organized collection of agents, previously structured in a dynamic, control-based manner. This collection of agents will be built based on the analysis of activations of conception and structuring agents that intercommunicate. Having first deployed an intent, a global interpretation of the system’s situation is formed by means of questionings, qualifying aspects of things, memorized cases, development of numerous cognitive aspects by activating agents that operate proper scaling up, all of which will allow for the efficient emergence of the representation. The system’s interpretation of this collection of agents will take the form of http://www.systemsurvey.org/ a network of dynamic knowledge of apprehensions, operating through questions in a steadily activated loop. This knowledge network will be activated by the system and further developed based on inter-agent relations that will result in significant aggregations of knowledge, structures of dynamic knowledge with appropriate (domain.com) characteristics.'\n",
    "doc=nlp(text)\n",
    "url=[]\n",
    "for t in doc:\n",
    "    if t.like_url:\n",
    "        url.append(t.text)\n",
    "print('URL:\\n', url)\n",
    "print('\\n----------------------')\n",
    "\n",
    "# d. extract all money transaction from below para using spacy\n",
    "transactions = \"Aron gave two $ to Shawn, Smith gave 500 € to Johan\"\n",
    "\n",
    "doc=nlp(transactions)\n",
    "for t in doc:\n",
    "    if t.like_num and doc[t.i+1].is_currency:\n",
    "        print(t,doc[t.i+1].text)"
   ]
  },
  {
   "cell_type": "code",
   "execution_count": null,
   "id": "7c2130d9",
   "metadata": {},
   "outputs": [],
   "source": []
  }
 ],
 "metadata": {
  "kernelspec": {
   "display_name": "Python 3 (ipykernel)",
   "language": "python",
   "name": "python3"
  },
  "language_info": {
   "codemirror_mode": {
    "name": "ipython",
    "version": 3
   },
   "file_extension": ".py",
   "mimetype": "text/x-python",
   "name": "python",
   "nbconvert_exporter": "python",
   "pygments_lexer": "ipython3",
   "version": "3.10.12"
  }
 },
 "nbformat": 4,
 "nbformat_minor": 5
}
